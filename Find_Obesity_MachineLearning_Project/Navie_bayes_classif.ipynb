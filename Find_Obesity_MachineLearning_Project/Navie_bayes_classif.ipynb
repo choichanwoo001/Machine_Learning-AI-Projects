{
 "cells": [
  {
   "cell_type": "code",
   "execution_count": 1,
   "id": "2c4883a5-c69c-41cb-9c36-f01ff8a44e5f",
   "metadata": {},
   "outputs": [
    {
     "name": "stdout",
     "output_type": "stream",
     "text": [
      "Accuracy: 0.805993690851735\n",
      "Classification Report:\n",
      "                     precision    recall  f1-score   support\n",
      "\n",
      "Insufficient_Weight       0.85      0.97      0.90        86\n",
      "      Normal_Weight       0.92      0.83      0.87        93\n",
      "     Obesity_Type_I       0.91      0.50      0.65       102\n",
      "    Obesity_Type_II       0.64      0.98      0.77        88\n",
      "   Obesity_Type_III       1.00      0.99      0.99        98\n",
      " Overweight_Level_I       0.88      0.51      0.65        88\n",
      "Overweight_Level_II       0.64      0.91      0.75        79\n",
      "\n",
      "           accuracy                           0.81       634\n",
      "          macro avg       0.83      0.81      0.80       634\n",
      "       weighted avg       0.84      0.81      0.80       634\n",
      "\n"
     ]
    }
   ],
   "source": [
    "import pandas as pd\n",
    "from sklearn.model_selection import train_test_split\n",
    "from sklearn.naive_bayes import GaussianNB\n",
    "from sklearn.preprocessing import OneHotEncoder\n",
    "from sklearn.compose import ColumnTransformer\n",
    "from sklearn.pipeline import Pipeline\n",
    "from sklearn.metrics import accuracy_score, classification_report\n",
    "\n",
    "# Load the dataset\n",
    "data = pd.read_csv('ObesityDataSet_raw_and_data_sinthetic_BMI.csv')\n",
    "\n",
    "# Drop 'height' and 'weight' columns\n",
    "data = data.drop(columns=['Height', 'Weight'])\n",
    "\n",
    "# Separate features and target\n",
    "X = data.drop(columns=['NObeyesdad'])\n",
    "y = data['NObeyesdad']\n",
    "\n",
    "# List of categorical columns\n",
    "categorical_cols = X.select_dtypes(include=['object']).columns\n",
    "\n",
    "# Define the column transformer with one-hot encoding for categorical columns\n",
    "preprocessor = ColumnTransformer(\n",
    "    transformers=[\n",
    "        ('cat', OneHotEncoder(), categorical_cols)\n",
    "    ],\n",
    "    remainder='passthrough'  # Keep the rest of the columns unchanged\n",
    ")\n",
    "\n",
    "# Create a pipeline with preprocessing and the classifier\n",
    "model = Pipeline(steps=[\n",
    "    ('preprocessor', preprocessor),\n",
    "    ('classifier', GaussianNB())\n",
    "])\n",
    "\n",
    "# Split the data into training and testing sets\n",
    "X_train, X_test, y_train, y_test = train_test_split(X, y, test_size=0.3, random_state=42)\n",
    "\n",
    "# Train the classifier\n",
    "model.fit(X_train, y_train)\n",
    "\n",
    "# Make predictions on the test set\n",
    "y_pred = model.predict(X_test)\n",
    "\n",
    "# Evaluate the model\n",
    "accuracy = accuracy_score(y_test, y_pred)\n",
    "classification_report_str = classification_report(y_test, y_pred)\n",
    "\n",
    "print(f'Accuracy: {accuracy}')\n",
    "print('Classification Report:')\n",
    "print(classification_report_str)\n"
   ]
  }
 ],
 "metadata": {
  "kernelspec": {
   "display_name": "Python 3 (ipykernel)",
   "language": "python",
   "name": "python3"
  },
  "language_info": {
   "codemirror_mode": {
    "name": "ipython",
    "version": 3
   },
   "file_extension": ".py",
   "mimetype": "text/x-python",
   "name": "python",
   "nbconvert_exporter": "python",
   "pygments_lexer": "ipython3",
   "version": "3.11.9"
  }
 },
 "nbformat": 4,
 "nbformat_minor": 5
}
