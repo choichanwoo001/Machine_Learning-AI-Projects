{
 "cells": [
  {
   "cell_type": "code",
   "execution_count": 1,
   "id": "8693c2e0-9a1c-44c4-adf0-1420add217b4",
   "metadata": {},
   "outputs": [
    {
     "name": "stdout",
     "output_type": "stream",
     "text": [
      "Accuracy: 0.9787234042553191\n",
      "Classification Report:\n",
      "                     precision    recall  f1-score   support\n",
      "\n",
      "Insufficient_Weight       0.97      1.00      0.98        56\n",
      "      Normal_Weight       0.97      0.97      0.97        62\n",
      "     Obesity_Type_I       0.97      0.99      0.98        78\n",
      "    Obesity_Type_II       0.98      0.98      0.98        58\n",
      "   Obesity_Type_III       1.00      1.00      1.00        63\n",
      " Overweight_Level_I       0.98      0.95      0.96        56\n",
      "Overweight_Level_II       0.98      0.96      0.97        50\n",
      "\n",
      "           accuracy                           0.98       423\n",
      "          macro avg       0.98      0.98      0.98       423\n",
      "       weighted avg       0.98      0.98      0.98       423\n",
      "\n"
     ]
    }
   ],
   "source": [
    "import pandas as pd\n",
    "from sklearn.model_selection import train_test_split\n",
    "from sklearn.preprocessing import OneHotEncoder\n",
    "from sklearn.compose import ColumnTransformer\n",
    "from sklearn.pipeline import Pipeline\n",
    "from sklearn.ensemble import RandomForestClassifier\n",
    "from sklearn.metrics import accuracy_score, classification_report\n",
    "\n",
    "# 데이터셋 불러오기\n",
    "data = pd.read_csv('ObesityDataSet_raw_and_data_sinthetic_BMI.csv')\n",
    "\n",
    "# 'Height'와 'Weight' 컬럼 제거\n",
    "data = data.drop(columns=['Height', 'Weight'])\n",
    "\n",
    "# 특성과 타겟 분리\n",
    "X = data.drop(columns=['NObeyesdad'])\n",
    "y = data['NObeyesdad']\n",
    "\n",
    "# 범주형 컬럼 목록\n",
    "categorical_cols = X.select_dtypes(include=['object']).columns\n",
    "\n",
    "# 범주형 컬럼에 대해 원-핫 인코딩을 수행하는 컬럼 변환기 정의\n",
    "preprocessor = ColumnTransformer(\n",
    "    transformers=[\n",
    "        ('cat', OneHotEncoder(), categorical_cols)\n",
    "    ],\n",
    "    remainder='passthrough'  # 나머지 컬럼은 그대로 유지\n",
    ")\n",
    "\n",
    "# 랜덤 포레스트를 사용하여 분류기를 포함하는 파이프라인 생성\n",
    "model = Pipeline(steps=[\n",
    "    ('preprocessor', preprocessor),\n",
    "    ('classifier', RandomForestClassifier(n_estimators=100, random_state=42))\n",
    "])\n",
    "\n",
    "# 데이터를 훈련 세트와 테스트 세트로 분리\n",
    "X_train, X_test, y_train, y_test = train_test_split(X, y, test_size=0.2, random_state=42)\n",
    "\n",
    "# 분류기 학습\n",
    "model.fit(X_train, y_train)\n",
    "\n",
    "# 테스트 세트에 대한 예측 수행\n",
    "y_pred = model.predict(X_test)\n",
    "\n",
    "# 모델 평가\n",
    "accuracy = accuracy_score(y_test, y_pred)\n",
    "classification_report_str = classification_report(y_test, y_pred)\n",
    "\n",
    "print(f'Accuracy: {accuracy}')\n",
    "print('Classification Report:')\n",
    "print(classification_report_str)\n"
   ]
  }
 ],
 "metadata": {
  "kernelspec": {
   "display_name": "Python 3 (ipykernel)",
   "language": "python",
   "name": "python3"
  },
  "language_info": {
   "codemirror_mode": {
    "name": "ipython",
    "version": 3
   },
   "file_extension": ".py",
   "mimetype": "text/x-python",
   "name": "python",
   "nbconvert_exporter": "python",
   "pygments_lexer": "ipython3",
   "version": "3.11.9"
  }
 },
 "nbformat": 4,
 "nbformat_minor": 5
}
